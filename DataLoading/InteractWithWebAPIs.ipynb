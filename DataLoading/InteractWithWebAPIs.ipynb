{
 "cells": [
  {
   "cell_type": "markdown",
   "source": [
    "# Interacting with Web APIs"
   ],
   "metadata": {
    "collapsed": false,
    "pycharm": {
     "name": "#%% md\n"
    }
   }
  },
  {
   "cell_type": "code",
   "execution_count": 15,
   "outputs": [],
   "source": [
    "import pandas as pd\n",
    "import requests"
   ],
   "metadata": {
    "collapsed": false,
    "pycharm": {
     "name": "#%%\n"
    }
   }
  },
  {
   "cell_type": "code",
   "execution_count": 2,
   "outputs": [],
   "source": [
    "url = 'https://api.github.com/repos/pandas-dev/pandas/issues'"
   ],
   "metadata": {
    "collapsed": false,
    "pycharm": {
     "name": "#%%\n"
    }
   }
  },
  {
   "cell_type": "code",
   "execution_count": 3,
   "outputs": [],
   "source": [
    "resp = requests.get(url)"
   ],
   "metadata": {
    "collapsed": false,
    "pycharm": {
     "name": "#%%\n"
    }
   }
  },
  {
   "cell_type": "code",
   "execution_count": 4,
   "outputs": [
    {
     "data": {
      "text/plain": "<Response [200]>"
     },
     "execution_count": 4,
     "metadata": {},
     "output_type": "execute_result"
    }
   ],
   "source": [
    "resp"
   ],
   "metadata": {
    "collapsed": false,
    "pycharm": {
     "name": "#%%\n"
    }
   }
  },
  {
   "cell_type": "code",
   "execution_count": 5,
   "outputs": [],
   "source": [
    "# The response object's json method will return a dictionary containing JSON parsed into native\n",
    "# Python objects\n",
    "data = resp.json()"
   ],
   "metadata": {
    "collapsed": false,
    "pycharm": {
     "name": "#%%\n"
    }
   }
  },
  {
   "cell_type": "code",
   "execution_count": 9,
   "outputs": [
    {
     "data": {
      "text/plain": "'pandas read int contain null will be float type'"
     },
     "execution_count": 9,
     "metadata": {},
     "output_type": "execute_result"
    }
   ],
   "source": [
    "data[0]['title']"
   ],
   "metadata": {
    "collapsed": false,
    "pycharm": {
     "name": "#%%\n"
    }
   }
  },
  {
   "cell_type": "code",
   "execution_count": 12,
   "outputs": [
    {
     "data": {
      "text/plain": "    number                                              title  \\\n0    48704    pandas read int contain null will be float type   \n1    48703                 Added theme_switcher in navbar_end   \n2    48702           REGR: dropna affects observed in groupby   \n3    48701  REGR: Setting values with 'loc' and boolean ma...   \n4    48700  StataReader processes whole file before readin...   \n5    48699        TST: Catch more pyarrow PerformanceWarnings   \n6    48698   CLN: Clean groupby ops from unreached code paths   \n7    48697                             None to na enlargement   \n8    48696  REGR: to_hdf raising AssertionError with boole...   \n9    48695          TST: Address MPL 3.6 deprecation warnings   \n10   48694  BUG: UndefinedVariableError in DataFrame.query...   \n11   48693  ENH: Make deprecate_nonkeyword_arguments alter...   \n12   48692  ENH: Make `deprecate_nonkeyword_arguments` alt...   \n13   48691                   DEPR: Timestamp(nanoseconds>999)   \n14   48689  DEPR: enforce Timedelta freq, delta, is_popula...   \n15   48688  BUG: explicit tz=None ignored in Timestamp con...   \n16   48687     DOC: Clarify exceptions that are internal only   \n17   48686  BUG: to_datetime(tz_mix, utc=True) converts to...   \n18   48685   DEPR: enforce deprecations on DateOffset methods   \n19   48684  ENH: Ability to specify only `rows` or `column...   \n20   48683  BUG: `FutureWarning: Inferring datetime64[ns]`...   \n21   48682  PERF: Memory duplication spotted when dropping...   \n22   48681  BUG: `TypeError: Int64` when using `pd.pivot_t...   \n23   48679  ValueError: Could not convert object to NumPy ...   \n24   48678     BUG: to_datetime - confusion with timeawarness   \n25   48676  BUG: to_datetime raising on invalid offsets wi...   \n26   48675  BUG: `Resampler.mean(engine=\"numba\")` results ...   \n27   48674  BUG: Wrong index constructor if new DF/Series ...   \n28   48673  BUG: Unclear FutureWarning regarding inplace i...   \n29   48671  DEPR: enforce deprecation on floats with unit=...   \n\n                                               labels state  \n0                                                  []  open  \n1                                                  []  open  \n2   [{'id': 76811, 'node_id': 'MDU6TGFiZWw3NjgxMQ=...  open  \n3   [{'id': 2822098, 'node_id': 'MDU6TGFiZWwyODIyM...  open  \n4   [{'id': 104865385, 'node_id': 'MDU6TGFiZWwxMDQ...  open  \n5   [{'id': 127685, 'node_id': 'MDU6TGFiZWwxMjc2OD...  open  \n6   [{'id': 233160, 'node_id': 'MDU6TGFiZWwyMzMxNj...  open  \n7   [{'id': 2822098, 'node_id': 'MDU6TGFiZWwyODIyM...  open  \n8   [{'id': 32815646, 'node_id': 'MDU6TGFiZWwzMjgx...  open  \n9   [{'id': 127685, 'node_id': 'MDU6TGFiZWwxMjc2OD...  open  \n10  [{'id': 32815646, 'node_id': 'MDU6TGFiZWwzMjgx...  open  \n11                                                 []  open  \n12  [{'id': 76812, 'node_id': 'MDU6TGFiZWw3NjgxMg=...  open  \n13  [{'id': 87485152, 'node_id': 'MDU6TGFiZWw4NzQ4...  open  \n14  [{'id': 49597148, 'node_id': 'MDU6TGFiZWw0OTU5...  open  \n15  [{'id': 76811, 'node_id': 'MDU6TGFiZWw3NjgxMQ=...  open  \n16  [{'id': 134699, 'node_id': 'MDU6TGFiZWwxMzQ2OT...  open  \n17  [{'id': 211840, 'node_id': 'MDU6TGFiZWwyMTE4ND...  open  \n18  [{'id': 53181044, 'node_id': 'MDU6TGFiZWw1MzE4...  open  \n19  [{'id': 76812, 'node_id': 'MDU6TGFiZWw3NjgxMg=...  open  \n20  [{'id': 76811, 'node_id': 'MDU6TGFiZWw3NjgxMQ=...  open  \n21  [{'id': 8935311, 'node_id': 'MDU6TGFiZWw4OTM1M...  open  \n22  [{'id': 76811, 'node_id': 'MDU6TGFiZWw3NjgxMQ=...  open  \n23  [{'id': 307649777, 'node_id': 'MDU6TGFiZWwzMDc...  open  \n24  [{'id': 211840, 'node_id': 'MDU6TGFiZWwyMTE4ND...  open  \n25  [{'id': 76811, 'node_id': 'MDU6TGFiZWw3NjgxMQ=...  open  \n26  [{'id': 76811, 'node_id': 'MDU6TGFiZWw3NjgxMQ=...  open  \n27  [{'id': 76811, 'node_id': 'MDU6TGFiZWw3NjgxMQ=...  open  \n28  [{'id': 76811, 'node_id': 'MDU6TGFiZWw3NjgxMQ=...  open  \n29  [{'id': 53181044, 'node_id': 'MDU6TGFiZWw1MzE4...  open  ",
      "text/html": "<div>\n<style scoped>\n    .dataframe tbody tr th:only-of-type {\n        vertical-align: middle;\n    }\n\n    .dataframe tbody tr th {\n        vertical-align: top;\n    }\n\n    .dataframe thead th {\n        text-align: right;\n    }\n</style>\n<table border=\"1\" class=\"dataframe\">\n  <thead>\n    <tr style=\"text-align: right;\">\n      <th></th>\n      <th>number</th>\n      <th>title</th>\n      <th>labels</th>\n      <th>state</th>\n    </tr>\n  </thead>\n  <tbody>\n    <tr>\n      <th>0</th>\n      <td>48704</td>\n      <td>pandas read int contain null will be float type</td>\n      <td>[]</td>\n      <td>open</td>\n    </tr>\n    <tr>\n      <th>1</th>\n      <td>48703</td>\n      <td>Added theme_switcher in navbar_end</td>\n      <td>[]</td>\n      <td>open</td>\n    </tr>\n    <tr>\n      <th>2</th>\n      <td>48702</td>\n      <td>REGR: dropna affects observed in groupby</td>\n      <td>[{'id': 76811, 'node_id': 'MDU6TGFiZWw3NjgxMQ=...</td>\n      <td>open</td>\n    </tr>\n    <tr>\n      <th>3</th>\n      <td>48701</td>\n      <td>REGR: Setting values with 'loc' and boolean ma...</td>\n      <td>[{'id': 2822098, 'node_id': 'MDU6TGFiZWwyODIyM...</td>\n      <td>open</td>\n    </tr>\n    <tr>\n      <th>4</th>\n      <td>48700</td>\n      <td>StataReader processes whole file before readin...</td>\n      <td>[{'id': 104865385, 'node_id': 'MDU6TGFiZWwxMDQ...</td>\n      <td>open</td>\n    </tr>\n    <tr>\n      <th>5</th>\n      <td>48699</td>\n      <td>TST: Catch more pyarrow PerformanceWarnings</td>\n      <td>[{'id': 127685, 'node_id': 'MDU6TGFiZWwxMjc2OD...</td>\n      <td>open</td>\n    </tr>\n    <tr>\n      <th>6</th>\n      <td>48698</td>\n      <td>CLN: Clean groupby ops from unreached code paths</td>\n      <td>[{'id': 233160, 'node_id': 'MDU6TGFiZWwyMzMxNj...</td>\n      <td>open</td>\n    </tr>\n    <tr>\n      <th>7</th>\n      <td>48697</td>\n      <td>None to na enlargement</td>\n      <td>[{'id': 2822098, 'node_id': 'MDU6TGFiZWwyODIyM...</td>\n      <td>open</td>\n    </tr>\n    <tr>\n      <th>8</th>\n      <td>48696</td>\n      <td>REGR: to_hdf raising AssertionError with boole...</td>\n      <td>[{'id': 32815646, 'node_id': 'MDU6TGFiZWwzMjgx...</td>\n      <td>open</td>\n    </tr>\n    <tr>\n      <th>9</th>\n      <td>48695</td>\n      <td>TST: Address MPL 3.6 deprecation warnings</td>\n      <td>[{'id': 127685, 'node_id': 'MDU6TGFiZWwxMjc2OD...</td>\n      <td>open</td>\n    </tr>\n    <tr>\n      <th>10</th>\n      <td>48694</td>\n      <td>BUG: UndefinedVariableError in DataFrame.query...</td>\n      <td>[{'id': 32815646, 'node_id': 'MDU6TGFiZWwzMjgx...</td>\n      <td>open</td>\n    </tr>\n    <tr>\n      <th>11</th>\n      <td>48693</td>\n      <td>ENH: Make deprecate_nonkeyword_arguments alter...</td>\n      <td>[]</td>\n      <td>open</td>\n    </tr>\n    <tr>\n      <th>12</th>\n      <td>48692</td>\n      <td>ENH: Make `deprecate_nonkeyword_arguments` alt...</td>\n      <td>[{'id': 76812, 'node_id': 'MDU6TGFiZWw3NjgxMg=...</td>\n      <td>open</td>\n    </tr>\n    <tr>\n      <th>13</th>\n      <td>48691</td>\n      <td>DEPR: Timestamp(nanoseconds&gt;999)</td>\n      <td>[{'id': 87485152, 'node_id': 'MDU6TGFiZWw4NzQ4...</td>\n      <td>open</td>\n    </tr>\n    <tr>\n      <th>14</th>\n      <td>48689</td>\n      <td>DEPR: enforce Timedelta freq, delta, is_popula...</td>\n      <td>[{'id': 49597148, 'node_id': 'MDU6TGFiZWw0OTU5...</td>\n      <td>open</td>\n    </tr>\n    <tr>\n      <th>15</th>\n      <td>48688</td>\n      <td>BUG: explicit tz=None ignored in Timestamp con...</td>\n      <td>[{'id': 76811, 'node_id': 'MDU6TGFiZWw3NjgxMQ=...</td>\n      <td>open</td>\n    </tr>\n    <tr>\n      <th>16</th>\n      <td>48687</td>\n      <td>DOC: Clarify exceptions that are internal only</td>\n      <td>[{'id': 134699, 'node_id': 'MDU6TGFiZWwxMzQ2OT...</td>\n      <td>open</td>\n    </tr>\n    <tr>\n      <th>17</th>\n      <td>48686</td>\n      <td>BUG: to_datetime(tz_mix, utc=True) converts to...</td>\n      <td>[{'id': 211840, 'node_id': 'MDU6TGFiZWwyMTE4ND...</td>\n      <td>open</td>\n    </tr>\n    <tr>\n      <th>18</th>\n      <td>48685</td>\n      <td>DEPR: enforce deprecations on DateOffset methods</td>\n      <td>[{'id': 53181044, 'node_id': 'MDU6TGFiZWw1MzE4...</td>\n      <td>open</td>\n    </tr>\n    <tr>\n      <th>19</th>\n      <td>48684</td>\n      <td>ENH: Ability to specify only `rows` or `column...</td>\n      <td>[{'id': 76812, 'node_id': 'MDU6TGFiZWw3NjgxMg=...</td>\n      <td>open</td>\n    </tr>\n    <tr>\n      <th>20</th>\n      <td>48683</td>\n      <td>BUG: `FutureWarning: Inferring datetime64[ns]`...</td>\n      <td>[{'id': 76811, 'node_id': 'MDU6TGFiZWw3NjgxMQ=...</td>\n      <td>open</td>\n    </tr>\n    <tr>\n      <th>21</th>\n      <td>48682</td>\n      <td>PERF: Memory duplication spotted when dropping...</td>\n      <td>[{'id': 8935311, 'node_id': 'MDU6TGFiZWw4OTM1M...</td>\n      <td>open</td>\n    </tr>\n    <tr>\n      <th>22</th>\n      <td>48681</td>\n      <td>BUG: `TypeError: Int64` when using `pd.pivot_t...</td>\n      <td>[{'id': 76811, 'node_id': 'MDU6TGFiZWw3NjgxMQ=...</td>\n      <td>open</td>\n    </tr>\n    <tr>\n      <th>23</th>\n      <td>48679</td>\n      <td>ValueError: Could not convert object to NumPy ...</td>\n      <td>[{'id': 307649777, 'node_id': 'MDU6TGFiZWwzMDc...</td>\n      <td>open</td>\n    </tr>\n    <tr>\n      <th>24</th>\n      <td>48678</td>\n      <td>BUG: to_datetime - confusion with timeawarness</td>\n      <td>[{'id': 211840, 'node_id': 'MDU6TGFiZWwyMTE4ND...</td>\n      <td>open</td>\n    </tr>\n    <tr>\n      <th>25</th>\n      <td>48676</td>\n      <td>BUG: to_datetime raising on invalid offsets wi...</td>\n      <td>[{'id': 76811, 'node_id': 'MDU6TGFiZWw3NjgxMQ=...</td>\n      <td>open</td>\n    </tr>\n    <tr>\n      <th>26</th>\n      <td>48675</td>\n      <td>BUG: `Resampler.mean(engine=\"numba\")` results ...</td>\n      <td>[{'id': 76811, 'node_id': 'MDU6TGFiZWw3NjgxMQ=...</td>\n      <td>open</td>\n    </tr>\n    <tr>\n      <th>27</th>\n      <td>48674</td>\n      <td>BUG: Wrong index constructor if new DF/Series ...</td>\n      <td>[{'id': 76811, 'node_id': 'MDU6TGFiZWw3NjgxMQ=...</td>\n      <td>open</td>\n    </tr>\n    <tr>\n      <th>28</th>\n      <td>48673</td>\n      <td>BUG: Unclear FutureWarning regarding inplace i...</td>\n      <td>[{'id': 76811, 'node_id': 'MDU6TGFiZWw3NjgxMQ=...</td>\n      <td>open</td>\n    </tr>\n    <tr>\n      <th>29</th>\n      <td>48671</td>\n      <td>DEPR: enforce deprecation on floats with unit=...</td>\n      <td>[{'id': 53181044, 'node_id': 'MDU6TGFiZWw1MzE4...</td>\n      <td>open</td>\n    </tr>\n  </tbody>\n</table>\n</div>"
     },
     "execution_count": 12,
     "metadata": {},
     "output_type": "execute_result"
    }
   ],
   "source": [
    "# We can pass Data directly to DataFrame and extract fields of interest\n",
    "issues = pd.DataFrame(data, columns=['number', 'title', 'labels', 'state'])\n",
    "issues"
   ],
   "metadata": {
    "collapsed": false,
    "pycharm": {
     "name": "#%%\n"
    }
   }
  },
  {
   "cell_type": "markdown",
   "source": [
    "# Interacting with DataBases"
   ],
   "metadata": {
    "collapsed": false,
    "pycharm": {
     "name": "#%% md\n"
    }
   }
  },
  {
   "cell_type": "code",
   "execution_count": 1,
   "outputs": [],
   "source": [
    "import sqlite3"
   ],
   "metadata": {
    "collapsed": false,
    "pycharm": {
     "name": "#%%\n"
    }
   }
  },
  {
   "cell_type": "code",
   "execution_count": 2,
   "outputs": [],
   "source": [
    "query = \"\"\"\n",
    "CREATE TABLE test\n",
    "(a VARCHAR(20), b VARCHAR(20), c REAL, d INTEGER\n",
    ");\"\"\""
   ],
   "metadata": {
    "collapsed": false,
    "pycharm": {
     "name": "#%%\n"
    }
   }
  },
  {
   "cell_type": "code",
   "execution_count": 3,
   "outputs": [],
   "source": [
    "con = sqlite3.connect('mydata.sqlite')"
   ],
   "metadata": {
    "collapsed": false,
    "pycharm": {
     "name": "#%%\n"
    }
   }
  },
  {
   "cell_type": "code",
   "execution_count": 4,
   "outputs": [
    {
     "data": {
      "text/plain": "<sqlite3.Cursor at 0x7ff4c156aa40>"
     },
     "execution_count": 4,
     "metadata": {},
     "output_type": "execute_result"
    }
   ],
   "source": [
    "con.execute(query)"
   ],
   "metadata": {
    "collapsed": false,
    "pycharm": {
     "name": "#%%\n"
    }
   }
  },
  {
   "cell_type": "code",
   "execution_count": 5,
   "outputs": [],
   "source": [
    "con.commit()"
   ],
   "metadata": {
    "collapsed": false,
    "pycharm": {
     "name": "#%%\n"
    }
   }
  },
  {
   "cell_type": "code",
   "execution_count": 6,
   "outputs": [],
   "source": [
    "data = [('Atlanta', 'Georgia', 1.25, 6),\n",
    "        ('Tallahassee', 'Florida', 2.6, 3),\n",
    "        ('Sacramento', 'California', 1.7, 5)]"
   ],
   "metadata": {
    "collapsed": false,
    "pycharm": {
     "name": "#%%\n"
    }
   }
  },
  {
   "cell_type": "code",
   "execution_count": 7,
   "outputs": [],
   "source": [
    "stmt = 'INSERT INTO test VALUES(?, ?, ?, ?)'"
   ],
   "metadata": {
    "collapsed": false,
    "pycharm": {
     "name": "#%%\n"
    }
   }
  },
  {
   "cell_type": "code",
   "execution_count": 8,
   "outputs": [
    {
     "data": {
      "text/plain": "<sqlite3.Cursor at 0x7ff4c2f1b6c0>"
     },
     "execution_count": 8,
     "metadata": {},
     "output_type": "execute_result"
    }
   ],
   "source": [
    "con.executemany(stmt, data)"
   ],
   "metadata": {
    "collapsed": false,
    "pycharm": {
     "name": "#%%\n"
    }
   }
  },
  {
   "cell_type": "code",
   "execution_count": 9,
   "outputs": [],
   "source": [
    "con.commit()"
   ],
   "metadata": {
    "collapsed": false,
    "pycharm": {
     "name": "#%%\n"
    }
   }
  },
  {
   "cell_type": "code",
   "execution_count": 10,
   "outputs": [],
   "source": [
    "# Cursor is a control structure that enables traversal over the records in a database\n",
    "cursor = con.execute('SELECT * FROM test')"
   ],
   "metadata": {
    "collapsed": false,
    "pycharm": {
     "name": "#%%\n"
    }
   }
  },
  {
   "cell_type": "code",
   "execution_count": 11,
   "outputs": [],
   "source": [
    "rows = cursor.fetchall()"
   ],
   "metadata": {
    "collapsed": false,
    "pycharm": {
     "name": "#%%\n"
    }
   }
  },
  {
   "cell_type": "code",
   "execution_count": 12,
   "outputs": [
    {
     "data": {
      "text/plain": "[('Atlanta', 'Georgia', 1.25, 6),\n ('Tallahassee', 'Florida', 2.6, 3),\n ('Sacramento', 'California', 1.7, 5)]"
     },
     "execution_count": 12,
     "metadata": {},
     "output_type": "execute_result"
    }
   ],
   "source": [
    "rows"
   ],
   "metadata": {
    "collapsed": false,
    "pycharm": {
     "name": "#%%\n"
    }
   }
  },
  {
   "cell_type": "code",
   "execution_count": 13,
   "outputs": [
    {
     "data": {
      "text/plain": "(('a', None, None, None, None, None, None),\n ('b', None, None, None, None, None, None),\n ('c', None, None, None, None, None, None),\n ('d', None, None, None, None, None, None))"
     },
     "execution_count": 13,
     "metadata": {},
     "output_type": "execute_result"
    }
   ],
   "source": [
    "# You can pass the list of tuples to the DataFrame constructor, but you also need the\n",
    "# column names, contained in the cursor's description attribute\n",
    "cursor.description"
   ],
   "metadata": {
    "collapsed": false,
    "pycharm": {
     "name": "#%%\n"
    }
   }
  },
  {
   "cell_type": "code",
   "execution_count": 16,
   "outputs": [
    {
     "data": {
      "text/plain": "             a           b     c  d\n0      Atlanta     Georgia  1.25  6\n1  Tallahassee     Florida  2.60  3\n2   Sacramento  California  1.70  5",
      "text/html": "<div>\n<style scoped>\n    .dataframe tbody tr th:only-of-type {\n        vertical-align: middle;\n    }\n\n    .dataframe tbody tr th {\n        vertical-align: top;\n    }\n\n    .dataframe thead th {\n        text-align: right;\n    }\n</style>\n<table border=\"1\" class=\"dataframe\">\n  <thead>\n    <tr style=\"text-align: right;\">\n      <th></th>\n      <th>a</th>\n      <th>b</th>\n      <th>c</th>\n      <th>d</th>\n    </tr>\n  </thead>\n  <tbody>\n    <tr>\n      <th>0</th>\n      <td>Atlanta</td>\n      <td>Georgia</td>\n      <td>1.25</td>\n      <td>6</td>\n    </tr>\n    <tr>\n      <th>1</th>\n      <td>Tallahassee</td>\n      <td>Florida</td>\n      <td>2.60</td>\n      <td>3</td>\n    </tr>\n    <tr>\n      <th>2</th>\n      <td>Sacramento</td>\n      <td>California</td>\n      <td>1.70</td>\n      <td>5</td>\n    </tr>\n  </tbody>\n</table>\n</div>"
     },
     "execution_count": 16,
     "metadata": {},
     "output_type": "execute_result"
    }
   ],
   "source": [
    "pd.DataFrame(rows, columns=[x[0] for x in cursor.description])"
   ],
   "metadata": {
    "collapsed": false,
    "pycharm": {
     "name": "#%%\n"
    }
   }
  },
  {
   "cell_type": "code",
   "execution_count": 17,
   "outputs": [],
   "source": [
    "import sqlalchemy as sqla"
   ],
   "metadata": {
    "collapsed": false,
    "pycharm": {
     "name": "#%%\n"
    }
   }
  },
  {
   "cell_type": "code",
   "execution_count": 18,
   "outputs": [],
   "source": [
    "db = sqla.create_engine('sqlite:///mydata.sqlite')"
   ],
   "metadata": {
    "collapsed": false,
    "pycharm": {
     "name": "#%%\n"
    }
   }
  },
  {
   "cell_type": "code",
   "execution_count": 19,
   "outputs": [
    {
     "data": {
      "text/plain": "             a           b     c  d\n0      Atlanta     Georgia  1.25  6\n1  Tallahassee     Florida  2.60  3\n2   Sacramento  California  1.70  5",
      "text/html": "<div>\n<style scoped>\n    .dataframe tbody tr th:only-of-type {\n        vertical-align: middle;\n    }\n\n    .dataframe tbody tr th {\n        vertical-align: top;\n    }\n\n    .dataframe thead th {\n        text-align: right;\n    }\n</style>\n<table border=\"1\" class=\"dataframe\">\n  <thead>\n    <tr style=\"text-align: right;\">\n      <th></th>\n      <th>a</th>\n      <th>b</th>\n      <th>c</th>\n      <th>d</th>\n    </tr>\n  </thead>\n  <tbody>\n    <tr>\n      <th>0</th>\n      <td>Atlanta</td>\n      <td>Georgia</td>\n      <td>1.25</td>\n      <td>6</td>\n    </tr>\n    <tr>\n      <th>1</th>\n      <td>Tallahassee</td>\n      <td>Florida</td>\n      <td>2.60</td>\n      <td>3</td>\n    </tr>\n    <tr>\n      <th>2</th>\n      <td>Sacramento</td>\n      <td>California</td>\n      <td>1.70</td>\n      <td>5</td>\n    </tr>\n  </tbody>\n</table>\n</div>"
     },
     "execution_count": 19,
     "metadata": {},
     "output_type": "execute_result"
    }
   ],
   "source": [
    "pd.read_sql('SELECT * FROM test', db)"
   ],
   "metadata": {
    "collapsed": false,
    "pycharm": {
     "name": "#%%\n"
    }
   }
  },
  {
   "cell_type": "code",
   "execution_count": 20,
   "outputs": [],
   "source": [
    "con.close()"
   ],
   "metadata": {
    "collapsed": false,
    "pycharm": {
     "name": "#%%\n"
    }
   }
  },
  {
   "cell_type": "code",
   "execution_count": null,
   "outputs": [],
   "source": [],
   "metadata": {
    "collapsed": false,
    "pycharm": {
     "name": "#%%\n"
    }
   }
  }
 ],
 "metadata": {
  "kernelspec": {
   "display_name": "Python 3",
   "language": "python",
   "name": "python3"
  },
  "language_info": {
   "codemirror_mode": {
    "name": "ipython",
    "version": 2
   },
   "file_extension": ".py",
   "mimetype": "text/x-python",
   "name": "python",
   "nbconvert_exporter": "python",
   "pygments_lexer": "ipython2",
   "version": "2.7.6"
  }
 },
 "nbformat": 4,
 "nbformat_minor": 0
}