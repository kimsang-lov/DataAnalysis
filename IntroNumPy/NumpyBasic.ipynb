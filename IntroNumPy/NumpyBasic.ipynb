{
 "cells": [
  {
   "cell_type": "code",
   "execution_count": 2,
   "outputs": [],
   "source": [
    "import numpy as np"
   ],
   "metadata": {
    "collapsed": false,
    "pycharm": {
     "name": "#%%\n"
    }
   }
  },
  {
   "cell_type": "code",
   "execution_count": 3,
   "outputs": [
    {
     "data": {
      "text/plain": "array([[[0.00000000e+000, 1.00937611e-320],\n        [0.00000000e+000, 0.00000000e+000],\n        [0.00000000e+000, 2.42336543e-057]],\n\n       [[5.58408451e-091, 3.12074176e-033],\n        [3.54953667e-062, 5.24244976e+174],\n        [3.99910963e+252, 1.46030983e-319]]])"
     },
     "execution_count": 3,
     "metadata": {},
     "output_type": "execute_result"
    }
   ],
   "source": [
    "# \"empty\" creates an array without initializing its values to any particular value\n",
    "np.empty((2, 3, 2))"
   ],
   "metadata": {
    "collapsed": false,
    "pycharm": {
     "name": "#%%\n"
    }
   }
  },
  {
   "cell_type": "code",
   "execution_count": 4,
   "outputs": [
    {
     "data": {
      "text/plain": "(2, 2, 3)"
     },
     "execution_count": 4,
     "metadata": {},
     "output_type": "execute_result"
    }
   ],
   "source": [
    "arr3d = np.array([[[1, 2, 3], [4, 5, 6]], [[7, 8, 9], [10, 11, 12]]])\n",
    "arr3d.shape"
   ],
   "metadata": {
    "collapsed": false,
    "pycharm": {
     "name": "#%%\n"
    }
   }
  },
  {
   "cell_type": "code",
   "execution_count": 5,
   "outputs": [
    {
     "data": {
      "text/plain": "array([[1, 2, 3],\n       [4, 5, 6]])"
     },
     "execution_count": 5,
     "metadata": {},
     "output_type": "execute_result"
    }
   ],
   "source": [
    "arr3d[0]"
   ],
   "metadata": {
    "collapsed": false,
    "pycharm": {
     "name": "#%%\n"
    }
   }
  },
  {
   "cell_type": "code",
   "execution_count": 6,
   "outputs": [
    {
     "data": {
      "text/plain": "array([[-0.11728556, -1.32741183, -0.65687231, -0.54097384],\n       [-0.43703743, -0.2113559 ,  0.09388394,  1.46525985],\n       [ 0.6041324 ,  2.68764548, -1.37686743, -2.02612283],\n       [ 0.91600474,  1.44422297,  1.4492868 , -1.27601088],\n       [ 0.39897358, -1.35228065, -3.40772718,  0.81125728],\n       [ 1.00854112, -0.39143958, -1.3405556 ,  0.52064792],\n       [ 0.59044619, -0.13876005,  0.03217583, -1.11727363]])"
     },
     "execution_count": 6,
     "metadata": {},
     "output_type": "execute_result"
    }
   ],
   "source": [
    "names = np.array(['Bob', 'Joe', 'Will', 'Bob', 'Will', 'Joe', 'Joe'])\n",
    "data = np.random.randn(7, 4)\n",
    "data"
   ],
   "metadata": {
    "collapsed": false,
    "pycharm": {
     "name": "#%%\n"
    }
   }
  },
  {
   "cell_type": "code",
   "execution_count": 7,
   "outputs": [
    {
     "data": {
      "text/plain": "array(['Bob', 'Joe', 'Will', 'Bob', 'Will', 'Joe', 'Joe'], dtype='<U4')"
     },
     "execution_count": 7,
     "metadata": {},
     "output_type": "execute_result"
    }
   ],
   "source": [
    "names"
   ],
   "metadata": {
    "collapsed": false,
    "pycharm": {
     "name": "#%%\n"
    }
   }
  },
  {
   "cell_type": "code",
   "execution_count": 8,
   "outputs": [
    {
     "data": {
      "text/plain": "array([ True, False, False,  True, False, False, False])"
     },
     "execution_count": 8,
     "metadata": {},
     "output_type": "execute_result"
    }
   ],
   "source": [
    "names == 'Bob'"
   ],
   "metadata": {
    "collapsed": false,
    "pycharm": {
     "name": "#%%\n"
    }
   }
  },
  {
   "cell_type": "code",
   "execution_count": 9,
   "outputs": [
    {
     "data": {
      "text/plain": "array([[-0.11728556, -1.32741183, -0.65687231, -0.54097384],\n       [ 0.91600474,  1.44422297,  1.4492868 , -1.27601088]])"
     },
     "execution_count": 9,
     "metadata": {},
     "output_type": "execute_result"
    }
   ],
   "source": [
    "data[names == 'Bob']"
   ],
   "metadata": {
    "collapsed": false,
    "pycharm": {
     "name": "#%%\n"
    }
   }
  },
  {
   "cell_type": "code",
   "execution_count": 10,
   "outputs": [
    {
     "data": {
      "text/plain": "array([[-0.43703743, -0.2113559 ,  0.09388394,  1.46525985],\n       [ 0.6041324 ,  2.68764548, -1.37686743, -2.02612283],\n       [ 0.39897358, -1.35228065, -3.40772718,  0.81125728],\n       [ 1.00854112, -0.39143958, -1.3405556 ,  0.52064792],\n       [ 0.59044619, -0.13876005,  0.03217583, -1.11727363]])"
     },
     "execution_count": 10,
     "metadata": {},
     "output_type": "execute_result"
    }
   ],
   "source": [
    "data[~(names == 'Bob')]"
   ],
   "metadata": {
    "collapsed": false,
    "pycharm": {
     "name": "#%%\n"
    }
   }
  },
  {
   "cell_type": "code",
   "execution_count": 11,
   "outputs": [
    {
     "data": {
      "text/plain": "array([[0.        , 0.        , 0.        , 0.        ],\n       [0.        , 0.        , 0.09388394, 1.46525985],\n       [0.6041324 , 2.68764548, 0.        , 0.        ],\n       [0.91600474, 1.44422297, 1.4492868 , 0.        ],\n       [0.39897358, 0.        , 0.        , 0.81125728],\n       [1.00854112, 0.        , 0.        , 0.52064792],\n       [0.59044619, 0.        , 0.03217583, 0.        ]])"
     },
     "execution_count": 11,
     "metadata": {},
     "output_type": "execute_result"
    }
   ],
   "source": [
    "data[data < 0] = 0\n",
    "data"
   ],
   "metadata": {
    "collapsed": false,
    "pycharm": {
     "name": "#%%\n"
    }
   }
  },
  {
   "cell_type": "markdown",
   "source": [
    "## Fancy indexing: idexing using integer arrays"
   ],
   "metadata": {
    "collapsed": false,
    "pycharm": {
     "name": "#%% md\n"
    }
   }
  },
  {
   "cell_type": "code",
   "execution_count": 12,
   "outputs": [],
   "source": [
    "arr = np.empty((8, 4))"
   ],
   "metadata": {
    "collapsed": false,
    "pycharm": {
     "name": "#%%\n"
    }
   }
  },
  {
   "cell_type": "code",
   "execution_count": 13,
   "outputs": [],
   "source": [
    "for i in range(8):\n",
    "    arr[i] = i"
   ],
   "metadata": {
    "collapsed": false,
    "pycharm": {
     "name": "#%%\n"
    }
   }
  },
  {
   "cell_type": "code",
   "execution_count": 14,
   "outputs": [
    {
     "data": {
      "text/plain": "array([[0., 0., 0., 0.],\n       [1., 1., 1., 1.],\n       [2., 2., 2., 2.],\n       [3., 3., 3., 3.],\n       [4., 4., 4., 4.],\n       [5., 5., 5., 5.],\n       [6., 6., 6., 6.],\n       [7., 7., 7., 7.]])"
     },
     "execution_count": 14,
     "metadata": {},
     "output_type": "execute_result"
    }
   ],
   "source": [
    "arr"
   ],
   "metadata": {
    "collapsed": false,
    "pycharm": {
     "name": "#%%\n"
    }
   }
  },
  {
   "cell_type": "code",
   "execution_count": 15,
   "outputs": [
    {
     "data": {
      "text/plain": "array([[4., 4., 4., 4.],\n       [3., 3., 3., 3.],\n       [0., 0., 0., 0.],\n       [6., 6., 6., 6.]])"
     },
     "execution_count": 15,
     "metadata": {},
     "output_type": "execute_result"
    }
   ],
   "source": [
    "arr[[4, 3, 0, 6]]"
   ],
   "metadata": {
    "collapsed": false,
    "pycharm": {
     "name": "#%%\n"
    }
   }
  },
  {
   "cell_type": "markdown",
   "source": [
    "## Transposing Arrays and Swapping Axes"
   ],
   "metadata": {
    "collapsed": false,
    "pycharm": {
     "name": "#%% md\n"
    }
   }
  },
  {
   "cell_type": "code",
   "execution_count": 16,
   "outputs": [
    {
     "data": {
      "text/plain": "array([[ 0,  1,  2,  3,  4],\n       [ 5,  6,  7,  8,  9],\n       [10, 11, 12, 13, 14]])"
     },
     "execution_count": 16,
     "metadata": {},
     "output_type": "execute_result"
    }
   ],
   "source": [
    "arr = np.arange(15).reshape((3, 5))\n",
    "arr"
   ],
   "metadata": {
    "collapsed": false,
    "pycharm": {
     "name": "#%%\n"
    }
   }
  },
  {
   "cell_type": "code",
   "execution_count": 17,
   "outputs": [
    {
     "data": {
      "text/plain": "array([[ 0,  5, 10],\n       [ 1,  6, 11],\n       [ 2,  7, 12],\n       [ 3,  8, 13],\n       [ 4,  9, 14]])"
     },
     "execution_count": 17,
     "metadata": {},
     "output_type": "execute_result"
    }
   ],
   "source": [
    "arr.T"
   ],
   "metadata": {
    "collapsed": false,
    "pycharm": {
     "name": "#%%\n"
    }
   }
  },
  {
   "cell_type": "code",
   "execution_count": 18,
   "outputs": [
    {
     "data": {
      "text/plain": "array([[ 0.26423294, -0.94743297, -0.14293824],\n       [ 0.32969799,  0.65207036,  0.24909091],\n       [ 1.50330057,  0.25931727,  0.91404447],\n       [-0.93819792, -2.4203664 , -2.0838772 ],\n       [ 0.82638629,  2.75990018,  0.64904232],\n       [ 1.08937308, -1.16893766,  0.43464675]])"
     },
     "execution_count": 18,
     "metadata": {},
     "output_type": "execute_result"
    }
   ],
   "source": [
    "# Inner matrix product using np.dot\n",
    "arr = np.random.randn(6, 3)\n",
    "arr"
   ],
   "metadata": {
    "collapsed": false,
    "pycharm": {
     "name": "#%%\n"
    }
   }
  },
  {
   "cell_type": "code",
   "execution_count": 19,
   "outputs": [
    {
     "data": {
      "text/plain": "array([[ 5.18829578,  3.63259229,  4.38338076],\n       [ 3.63259229, 16.23170817,  6.86184013],\n       [ 4.38338076,  6.86184013,  5.87067282]])"
     },
     "execution_count": 19,
     "metadata": {},
     "output_type": "execute_result"
    }
   ],
   "source": [
    "np.dot(arr.T, arr)"
   ],
   "metadata": {
    "collapsed": false,
    "pycharm": {
     "name": "#%%\n"
    }
   }
  },
  {
   "cell_type": "code",
   "execution_count": 20,
   "outputs": [
    {
     "data": {
      "text/plain": "array([[[ 0,  1,  2,  3],\n        [ 4,  5,  6,  7]],\n\n       [[ 8,  9, 10, 11],\n        [12, 13, 14, 15]]])"
     },
     "execution_count": 20,
     "metadata": {},
     "output_type": "execute_result"
    }
   ],
   "source": [
    "# for higher dimensional arrays, transpose will accept a tuple of axis numbers to permute the axes\n",
    "arr = np.arange(16).reshape(2, 2, 4)\n",
    "arr"
   ],
   "metadata": {
    "collapsed": false,
    "pycharm": {
     "name": "#%%\n"
    }
   }
  },
  {
   "cell_type": "code",
   "execution_count": 21,
   "outputs": [
    {
     "data": {
      "text/plain": "array([[[ 0,  1,  2,  3],\n        [ 8,  9, 10, 11]],\n\n       [[ 4,  5,  6,  7],\n        [12, 13, 14, 15]]])"
     },
     "execution_count": 21,
     "metadata": {},
     "output_type": "execute_result"
    }
   ],
   "source": [
    "arr.transpose((1, 0, 2))"
   ],
   "metadata": {
    "collapsed": false,
    "pycharm": {
     "name": "#%%\n"
    }
   }
  },
  {
   "cell_type": "code",
   "execution_count": 22,
   "outputs": [
    {
     "name": "stdout",
     "output_type": "stream",
     "text": [
      "[-0.6199096   1.27041498  0.93614127  0.89935591  2.15690618 -0.25742603\n",
      " -1.21914484 -0.10625558]\n",
      "[-0.92488978 -0.27862208 -1.88575238  0.34045075  0.1952587   0.77605964\n",
      " -0.74649744 -0.74502437]\n"
     ]
    }
   ],
   "source": [
    "# Binary ufunc (function that takes two arrays) i.e. \"add\" and \"maximum\"\n",
    "x = np.random.randn(8)\n",
    "y = np.random.randn(8)\n",
    "print(x)\n",
    "print(y)"
   ],
   "metadata": {
    "collapsed": false,
    "pycharm": {
     "name": "#%%\n"
    }
   }
  },
  {
   "cell_type": "code",
   "execution_count": 23,
   "outputs": [
    {
     "data": {
      "text/plain": "array([-0.6199096 ,  1.27041498,  0.93614127,  0.89935591,  2.15690618,\n        0.77605964, -0.74649744, -0.10625558])"
     },
     "execution_count": 23,
     "metadata": {},
     "output_type": "execute_result"
    }
   ],
   "source": [
    "np.maximum(x, y)"
   ],
   "metadata": {
    "collapsed": false,
    "pycharm": {
     "name": "#%%\n"
    }
   }
  },
  {
   "cell_type": "code",
   "execution_count": 24,
   "outputs": [
    {
     "data": {
      "text/plain": "array([-1.,  1.,  1.,  1.,  1., -1., -1., -1.])"
     },
     "execution_count": 24,
     "metadata": {},
     "output_type": "execute_result"
    }
   ],
   "source": [
    "# sign: compute the sign of each element\n",
    "np.sign(x)"
   ],
   "metadata": {
    "collapsed": false,
    "pycharm": {
     "name": "#%%\n"
    }
   }
  },
  {
   "cell_type": "markdown",
   "source": [
    "## Array-Oriented Programming"
   ],
   "metadata": {
    "collapsed": false,
    "pycharm": {
     "name": "#%% md\n"
    }
   }
  },
  {
   "cell_type": "code",
   "execution_count": 25,
   "outputs": [],
   "source": [
    "# \"meshgrid\" function takes two 1D arrays and produces two 2D matrices corresponding to all pairs of (x, y) in the two arrays:\n",
    "points = np.arange(-5, 5, 1)\n",
    "xs, ys = np.meshgrid(points, points)"
   ],
   "metadata": {
    "collapsed": false,
    "pycharm": {
     "name": "#%%\n"
    }
   }
  },
  {
   "cell_type": "code",
   "execution_count": 26,
   "outputs": [
    {
     "data": {
      "text/plain": "array([[-5, -5, -5, -5, -5, -5, -5, -5, -5, -5],\n       [-4, -4, -4, -4, -4, -4, -4, -4, -4, -4],\n       [-3, -3, -3, -3, -3, -3, -3, -3, -3, -3],\n       [-2, -2, -2, -2, -2, -2, -2, -2, -2, -2],\n       [-1, -1, -1, -1, -1, -1, -1, -1, -1, -1],\n       [ 0,  0,  0,  0,  0,  0,  0,  0,  0,  0],\n       [ 1,  1,  1,  1,  1,  1,  1,  1,  1,  1],\n       [ 2,  2,  2,  2,  2,  2,  2,  2,  2,  2],\n       [ 3,  3,  3,  3,  3,  3,  3,  3,  3,  3],\n       [ 4,  4,  4,  4,  4,  4,  4,  4,  4,  4]])"
     },
     "execution_count": 26,
     "metadata": {},
     "output_type": "execute_result"
    }
   ],
   "source": [
    "ys"
   ],
   "metadata": {
    "collapsed": false,
    "pycharm": {
     "name": "#%%\n"
    }
   }
  },
  {
   "cell_type": "code",
   "execution_count": 27,
   "outputs": [
    {
     "data": {
      "text/plain": "array([[-5, -4, -3, -2, -1,  0,  1,  2,  3,  4],\n       [-5, -4, -3, -2, -1,  0,  1,  2,  3,  4],\n       [-5, -4, -3, -2, -1,  0,  1,  2,  3,  4],\n       [-5, -4, -3, -2, -1,  0,  1,  2,  3,  4],\n       [-5, -4, -3, -2, -1,  0,  1,  2,  3,  4],\n       [-5, -4, -3, -2, -1,  0,  1,  2,  3,  4],\n       [-5, -4, -3, -2, -1,  0,  1,  2,  3,  4],\n       [-5, -4, -3, -2, -1,  0,  1,  2,  3,  4],\n       [-5, -4, -3, -2, -1,  0,  1,  2,  3,  4],\n       [-5, -4, -3, -2, -1,  0,  1,  2,  3,  4]])"
     },
     "execution_count": 27,
     "metadata": {},
     "output_type": "execute_result"
    }
   ],
   "source": [
    "xs"
   ],
   "metadata": {
    "collapsed": false,
    "pycharm": {
     "name": "#%%\n"
    }
   }
  },
  {
   "cell_type": "code",
   "execution_count": 28,
   "outputs": [
    {
     "data": {
      "text/plain": "array([-5, -4, -3, -2, -1,  0,  1,  2,  3,  4])"
     },
     "execution_count": 28,
     "metadata": {},
     "output_type": "execute_result"
    }
   ],
   "source": [
    "points"
   ],
   "metadata": {
    "collapsed": false,
    "pycharm": {
     "name": "#%%\n"
    }
   }
  },
  {
   "cell_type": "code",
   "execution_count": 29,
   "outputs": [
    {
     "data": {
      "text/plain": "array([[7.07106781, 6.40312424, 5.83095189, 5.38516481, 5.09901951,\n        5.        , 5.09901951, 5.38516481, 5.83095189, 6.40312424],\n       [6.40312424, 5.65685425, 5.        , 4.47213595, 4.12310563,\n        4.        , 4.12310563, 4.47213595, 5.        , 5.65685425],\n       [5.83095189, 5.        , 4.24264069, 3.60555128, 3.16227766,\n        3.        , 3.16227766, 3.60555128, 4.24264069, 5.        ],\n       [5.38516481, 4.47213595, 3.60555128, 2.82842712, 2.23606798,\n        2.        , 2.23606798, 2.82842712, 3.60555128, 4.47213595],\n       [5.09901951, 4.12310563, 3.16227766, 2.23606798, 1.41421356,\n        1.        , 1.41421356, 2.23606798, 3.16227766, 4.12310563],\n       [5.        , 4.        , 3.        , 2.        , 1.        ,\n        0.        , 1.        , 2.        , 3.        , 4.        ],\n       [5.09901951, 4.12310563, 3.16227766, 2.23606798, 1.41421356,\n        1.        , 1.41421356, 2.23606798, 3.16227766, 4.12310563],\n       [5.38516481, 4.47213595, 3.60555128, 2.82842712, 2.23606798,\n        2.        , 2.23606798, 2.82842712, 3.60555128, 4.47213595],\n       [5.83095189, 5.        , 4.24264069, 3.60555128, 3.16227766,\n        3.        , 3.16227766, 3.60555128, 4.24264069, 5.        ],\n       [6.40312424, 5.65685425, 5.        , 4.47213595, 4.12310563,\n        4.        , 4.12310563, 4.47213595, 5.        , 5.65685425]])"
     },
     "execution_count": 29,
     "metadata": {},
     "output_type": "execute_result"
    }
   ],
   "source": [
    "z = np.sqrt(xs ** 2 + ys ** 2)\n",
    "z"
   ],
   "metadata": {
    "collapsed": false,
    "pycharm": {
     "name": "#%%\n"
    }
   }
  },
  {
   "cell_type": "code",
   "execution_count": 30,
   "outputs": [],
   "source": [
    "import matplotlib.pyplot as plt"
   ],
   "metadata": {
    "collapsed": false,
    "pycharm": {
     "name": "#%%\n"
    }
   }
  },
  {
   "cell_type": "code",
   "execution_count": 31,
   "outputs": [
    {
     "data": {
      "text/plain": "Text(0.5, 1.0, 'Image plot of $\\\\sqrt{x^2 + y^2}$ for a grid of values')"
     },
     "execution_count": 31,
     "metadata": {},
     "output_type": "execute_result"
    },
    {
     "data": {
      "text/plain": "<Figure size 432x288 with 2 Axes>",
      "image/png": "[encoded data removed]"
     },
     "metadata": {
      "needs_background": "light"
     },
     "output_type": "display_data"
    }
   ],
   "source": [
    "plt.imshow(z, cmap=plt.cm.gray)\n",
    "plt.colorbar()\n",
    "plt.title(\"Image plot of $\\sqrt{x^2 + y^2}$ for a grid of values\")"
   ],
   "metadata": {
    "collapsed": false,
    "pycharm": {
     "name": "#%%\n"
    }
   }
  },
  {
   "cell_type": "code",
   "execution_count": 32,
   "outputs": [],
   "source": [
    "xarr = np.array([1.1, 1.2, 1.3, 1.4, 1.5])\n",
    "yarr = np.array([2.1, 2.2, 2.3, 2.4, 2.5])\n",
    "cond = np.array([True, False, True, True, False])\n",
    "# Suppose we wanted to take a value from xarr whenever the corresponding value in cond is True, and otherwise take the value from yarr.\n",
    "# A list comprehension doing this might look like:\n",
    "result = [(x if c else y)\n",
    "          for x, y, c in zip(xarr, yarr, cond)] # this method will not be very fast for large arrays. Also, it will not with multidimensional arrays"
   ],
   "metadata": {
    "collapsed": false,
    "pycharm": {
     "name": "#%%\n"
    }
   }
  },
  {
   "cell_type": "code",
   "execution_count": 33,
   "outputs": [
    {
     "data": {
      "text/plain": "[1.1, 2.2, 1.3, 1.4, 2.5]"
     },
     "execution_count": 33,
     "metadata": {},
     "output_type": "execute_result"
    }
   ],
   "source": [
    "result"
   ],
   "metadata": {
    "collapsed": false,
    "pycharm": {
     "name": "#%%\n"
    }
   }
  },
  {
   "cell_type": "code",
   "execution_count": 34,
   "outputs": [
    {
     "data": {
      "text/plain": "array([1.1, 2.2, 1.3, 1.4, 2.5])"
     },
     "execution_count": 34,
     "metadata": {},
     "output_type": "execute_result"
    }
   ],
   "source": [
    "result = np.where(cond, xarr, yarr)\n",
    "result"
   ],
   "metadata": {
    "collapsed": false,
    "pycharm": {
     "name": "#%%\n"
    }
   }
  },
  {
   "cell_type": "code",
   "execution_count": 46,
   "outputs": [
    {
     "data": {
      "text/plain": "array([[-1.04267811,  0.2604274 , -1.19337909,  0.45588556],\n       [ 0.753934  ,  1.4256426 , -0.09025498, -1.63077521],\n       [-0.45875669, -0.80803021, -0.51044815, -1.16329434],\n       [-1.21323621,  0.3895991 ,  0.66998076,  0.04958361]])"
     },
     "execution_count": 46,
     "metadata": {},
     "output_type": "execute_result"
    }
   ],
   "source": [
    "# Suppose you had a matrix of randomly generated data, and you wanted to replace all positive values with 2 and all negative values with –2:\n",
    "arr = np.random.randn(4, 4)\n",
    "arr"
   ],
   "metadata": {
    "collapsed": false,
    "pycharm": {
     "name": "#%%\n"
    }
   }
  },
  {
   "cell_type": "code",
   "execution_count": 47,
   "outputs": [],
   "source": [
    "result = np.where(arr > 0, 2, -2)"
   ],
   "metadata": {
    "collapsed": false,
    "pycharm": {
     "name": "#%%\n"
    }
   }
  },
  {
   "cell_type": "code",
   "execution_count": 48,
   "outputs": [
    {
     "data": {
      "text/plain": "array([[-2,  2, -2,  2],\n       [ 2,  2, -2, -2],\n       [-2, -2, -2, -2],\n       [-2,  2,  2,  2]])"
     },
     "execution_count": 48,
     "metadata": {},
     "output_type": "execute_result"
    }
   ],
   "source": [
    "result"
   ],
   "metadata": {
    "collapsed": false,
    "pycharm": {
     "name": "#%%\n"
    }
   }
  },
  {
   "cell_type": "code",
   "execution_count": 49,
   "outputs": [
    {
     "data": {
      "text/plain": "array([[-1.04267811,  0.2604274 , -1.19337909,  0.45588556],\n       [ 0.753934  ,  1.4256426 , -0.09025498, -1.63077521],\n       [-0.45875669, -0.80803021, -0.51044815, -1.16329434],\n       [-1.21323621,  0.3895991 ,  0.66998076,  0.04958361]])"
     },
     "execution_count": 49,
     "metadata": {},
     "output_type": "execute_result"
    }
   ],
   "source": [
    "arr"
   ],
   "metadata": {
    "collapsed": false,
    "pycharm": {
     "name": "#%%\n"
    }
   }
  },
  {
   "cell_type": "code",
   "execution_count": null,
   "outputs": [],
   "source": [],
   "metadata": {
    "collapsed": false,
    "pycharm": {
     "name": "#%%\n"
    }
   }
  }
 ],
 "metadata": {
  "kernelspec": {
   "display_name": "Python 3",
   "language": "python",
   "name": "python3"
  },
  "language_info": {
   "codemirror_mode": {
    "name": "ipython",
    "version": 2
   },
   "file_extension": ".py",
   "mimetype": "text/x-python",
   "name": "python",
   "nbconvert_exporter": "python",
   "pygments_lexer": "ipython2",
   "version": "2.7.6"
  }
 },
 "nbformat": 4,
 "nbformat_minor": 0
}